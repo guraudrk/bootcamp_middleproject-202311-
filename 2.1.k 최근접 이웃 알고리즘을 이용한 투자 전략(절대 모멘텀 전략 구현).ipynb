{
 "cells": [
  {
   "cell_type": "markdown",
   "id": "7ed671e9",
   "metadata": {},
   "source": [
    "# k-최근접 이웃 알고리즘을 이용한 투자 전략(knn)\n",
    "\n",
    "개념은 간단하다.\n",
    "\n",
    "유한한 특성을 가진 데이터 사이의 거리는 가깝다는 가정에서 출발한다.\n",
    "\n",
    "책 223페이지의 그림을 보면,\n",
    "\n",
    "동그라미의 범위를 어떻게 하느냐에 따라서 새로운 데이터가 속하는 범주가 다르다.\n",
    "\n",
    "knn 방법을 하기 위해서는 데이터를 대량 확보 해야 한다.\n",
    "\n",
    "이는 매우 직관적이고 간단한 알고리즘이며 비교적 일관적인 결과를 도출하기에 현업에서도 많이 쓰인다.\n",
    "\n",
    "knn을 통해 spy지수(앞서 보았던 etf s&p 500 데이터)를 예측하는 모델을 설계하고, 정확도를 높임으로서 더 쉽게 투자 할 수 있도록 하자.\n",
    "\n",
    "(참고한 책:'퀀트 전략을 위한 인공지능 트레이딩')\n"
   ]
  },
  {
   "cell_type": "markdown",
   "id": "3b6287c0",
   "metadata": {},
   "source": [
    "# 1. 관련 라이브러리 다운로드\n",
    "\n",
    "- 먼저 야후파이낸스를 다운로드받자. 야후파이낸스는  pandas 데이터프레임을 사용하며, 재무재표,주주정보 등 수집하기 어려운 다양한 데이터를 수집할 수 있다.\n",
    "\n",
    "- 그런 다음 pandas-datareader를 다운받는다. 주식 뿐만 아니라 여러 통계 데이터들을 가져올 수 있는 api 모듈이다."
   ]
  },
  {
   "cell_type": "code",
   "execution_count": 1,
   "id": "0784dae5",
   "metadata": {},
   "outputs": [
    {
     "name": "stdout",
     "output_type": "stream",
     "text": [
      "Requirement already satisfied: yfinance in c:\\users\\user\\anaconda3\\lib\\site-packages (0.2.32)\n",
      "Requirement already satisfied: pandas>=1.3.0 in c:\\users\\user\\anaconda3\\lib\\site-packages (from yfinance) (2.0.3)\n",
      "Requirement already satisfied: beautifulsoup4>=4.11.1 in c:\\users\\user\\anaconda3\\lib\\site-packages (from yfinance) (4.12.2)\n",
      "Requirement already satisfied: requests>=2.31 in c:\\users\\user\\anaconda3\\lib\\site-packages (from yfinance) (2.31.0)\n",
      "Requirement already satisfied: frozendict>=2.3.4 in c:\\users\\user\\anaconda3\\lib\\site-packages (from yfinance) (2.3.8)\n",
      "Requirement already satisfied: peewee>=3.16.2 in c:\\users\\user\\anaconda3\\lib\\site-packages (from yfinance) (3.17.0)\n",
      "Requirement already satisfied: lxml>=4.9.1 in c:\\users\\user\\anaconda3\\lib\\site-packages (from yfinance) (4.9.3)\n",
      "Requirement already satisfied: appdirs>=1.4.4 in c:\\users\\user\\anaconda3\\lib\\site-packages (from yfinance) (1.4.4)\n",
      "Requirement already satisfied: numpy>=1.16.5 in c:\\users\\user\\anaconda3\\lib\\site-packages (from yfinance) (1.22.4)\n",
      "Requirement already satisfied: multitasking>=0.0.7 in c:\\users\\user\\anaconda3\\lib\\site-packages (from yfinance) (0.0.11)\n",
      "Requirement already satisfied: html5lib>=1.1 in c:\\users\\user\\anaconda3\\lib\\site-packages (from yfinance) (1.1)\n",
      "Requirement already satisfied: pytz>=2022.5 in c:\\users\\user\\anaconda3\\lib\\site-packages (from yfinance) (2023.3.post1)\n",
      "Requirement already satisfied: soupsieve>1.2 in c:\\users\\user\\anaconda3\\lib\\site-packages (from beautifulsoup4>=4.11.1->yfinance) (2.2.1)\n",
      "Requirement already satisfied: six>=1.9 in c:\\users\\user\\anaconda3\\lib\\site-packages (from html5lib>=1.1->yfinance) (1.15.0)\n",
      "Requirement already satisfied: webencodings in c:\\users\\user\\anaconda3\\lib\\site-packages (from html5lib>=1.1->yfinance) (0.5.1)\n",
      "Requirement already satisfied: tzdata>=2022.1 in c:\\users\\user\\anaconda3\\lib\\site-packages (from pandas>=1.3.0->yfinance) (2023.3)\n",
      "Requirement already satisfied: python-dateutil>=2.8.2 in c:\\users\\user\\anaconda3\\lib\\site-packages (from pandas>=1.3.0->yfinance) (2.8.2)\n",
      "Requirement already satisfied: certifi>=2017.4.17 in c:\\users\\user\\anaconda3\\lib\\site-packages (from requests>=2.31->yfinance) (2020.12.5)\n",
      "Requirement already satisfied: urllib3<3,>=1.21.1 in c:\\users\\user\\anaconda3\\lib\\site-packages (from requests>=2.31->yfinance) (1.26.18)\n",
      "Requirement already satisfied: idna<4,>=2.5 in c:\\users\\user\\anaconda3\\lib\\site-packages (from requests>=2.31->yfinance) (2.8)\n",
      "Requirement already satisfied: charset-normalizer<4,>=2 in c:\\users\\user\\anaconda3\\lib\\site-packages (from requests>=2.31->yfinance) (3.3.2)\n",
      "Note: you may need to restart the kernel to use updated packages.\n"
     ]
    }
   ],
   "source": [
    "pip install yfinance --upgrade"
   ]
  },
  {
   "cell_type": "code",
   "execution_count": 3,
   "id": "72de2b62",
   "metadata": {},
   "outputs": [
    {
     "name": "stdout",
     "output_type": "stream",
     "text": [
      "Requirement already satisfied: pandas-datareader in c:\\users\\user\\anaconda3\\lib\\site-packages (0.10.0)\n",
      "Requirement already satisfied: requests>=2.19.0 in c:\\users\\user\\anaconda3\\lib\\site-packages (from pandas-datareader) (2.31.0)\n",
      "Requirement already satisfied: lxml in c:\\users\\user\\anaconda3\\lib\\site-packages (from pandas-datareader) (4.9.3)\n",
      "Requirement already satisfied: pandas>=0.23 in c:\\users\\user\\anaconda3\\lib\\site-packages (from pandas-datareader) (2.0.3)\n",
      "Requirement already satisfied: pytz>=2020.1 in c:\\users\\user\\anaconda3\\lib\\site-packages (from pandas>=0.23->pandas-datareader) (2023.3.post1)\n",
      "Requirement already satisfied: python-dateutil>=2.8.2 in c:\\users\\user\\anaconda3\\lib\\site-packages (from pandas>=0.23->pandas-datareader) (2.8.2)\n",
      "Requirement already satisfied: numpy>=1.20.3 in c:\\users\\user\\anaconda3\\lib\\site-packages (from pandas>=0.23->pandas-datareader) (1.22.4)\n",
      "Requirement already satisfied: tzdata>=2022.1 in c:\\users\\user\\anaconda3\\lib\\site-packages (from pandas>=0.23->pandas-datareader) (2023.3)\n",
      "Requirement already satisfied: six>=1.5 in c:\\users\\user\\anaconda3\\lib\\site-packages (from python-dateutil>=2.8.2->pandas>=0.23->pandas-datareader) (1.15.0)\n",
      "Requirement already satisfied: certifi>=2017.4.17 in c:\\users\\user\\anaconda3\\lib\\site-packages (from requests>=2.19.0->pandas-datareader) (2020.12.5)\n",
      "Requirement already satisfied: charset-normalizer<4,>=2 in c:\\users\\user\\anaconda3\\lib\\site-packages (from requests>=2.19.0->pandas-datareader) (3.3.2)\n",
      "Requirement already satisfied: urllib3<3,>=1.21.1 in c:\\users\\user\\anaconda3\\lib\\site-packages (from requests>=2.19.0->pandas-datareader) (1.26.18)\n",
      "Requirement already satisfied: idna<4,>=2.5 in c:\\users\\user\\anaconda3\\lib\\site-packages (from requests>=2.19.0->pandas-datareader) (2.8)\n"
     ]
    }
   ],
   "source": [
    "!pip install pandas-datareader\n",
    "\n",
    "#설치가 되어 있지 않다면, 설치를 해야 한다."
   ]
  },
  {
   "cell_type": "markdown",
   "id": "530bba47",
   "metadata": {},
   "source": [
    "# 2.데이터 불러오기\n",
    "\n",
    "사이킷런을 사용하였다. 사이킷런은 파이썬에서 머신러닝 및 데이터분석을 위한 강력한 오픈 라이브러리이다. 이 라이브러리는 다양한 머신러닝 알고리즘, 데이터 전처리 도구, 모델 평가 도구 등을 제공하여 사용자가 머신러닝 프로젝트를 구축하고 평가하는 데 도움을 준다.\n",
    "\n",
    "사이킷런은 사용하기 쉬우며, 데이터 과학자와 엔지니어가 효율적으로 모델을 개발하고 최적화하는데 도움이 된다.\n",
    "\n",
    "분류,회귀,군집화,차원 축소 등 다양한 머신러닝 작업을 지원한다."
   ]
  },
  {
   "cell_type": "code",
   "execution_count": 40,
   "id": "f8ebbfbc",
   "metadata": {},
   "outputs": [],
   "source": [
    "import numpy as np\n",
    "import pandas as pd\n",
    "\n",
    "\n",
    "import matplotlib.pyplot as plt\n",
    "from sklearn.neighbors import KNeighborsClassifier\n",
    "from sklearn.metrics import accuracy_score\n",
    "\n",
    "from pandas_datareader import data as pdr #Yahoo Finance으로부터 데이터를 불러오기 위한 패키지\n"
   ]
  },
  {
   "cell_type": "code",
   "execution_count": 41,
   "id": "410f87a2",
   "metadata": {},
   "outputs": [
    {
     "name": "stdout",
     "output_type": "stream",
     "text": [
      "[*********************100%%**********************]  1 of 1 completed\n",
      "                  Open        High         Low       Close   Adj Close  \\\n",
      "Date                                                                     \n",
      "2012-01-03  127.760002  128.380005  127.430000  127.500000  102.458984   \n",
      "2012-01-04  127.199997  127.809998  126.709999  127.699997  102.619705   \n",
      "2012-01-05  127.010002  128.229996  126.430000  128.039993  102.892906   \n",
      "2012-01-06  128.199997  128.220001  127.290001  127.709999  102.627724   \n",
      "2012-01-09  128.000000  128.179993  127.410004  128.020004  102.876816   \n",
      "...                ...         ...         ...         ...         ...   \n",
      "2016-12-23  225.429993  225.720001  225.210007  225.710007  201.048355   \n",
      "2016-12-27  226.020004  226.729996  226.000000  226.270004  201.547150   \n",
      "2016-12-28  226.570007  226.589996  224.270004  224.399994  199.881500   \n",
      "2016-12-29  224.479996  224.889999  223.839996  224.350006  199.836914   \n",
      "2016-12-30  224.729996  224.830002  222.729996  223.529999  199.106537   \n",
      "\n",
      "               Volume  \n",
      "Date                   \n",
      "2012-01-03  193697900  \n",
      "2012-01-04  127186500  \n",
      "2012-01-05  173895000  \n",
      "2012-01-06  148050000  \n",
      "2012-01-09   99530200  \n",
      "...               ...  \n",
      "2016-12-23   36697800  \n",
      "2016-12-27   42672500  \n",
      "2016-12-28   64095000  \n",
      "2016-12-29   48696100  \n",
      "2016-12-30  108998300  \n",
      "\n",
      "[1258 rows x 6 columns]\n"
     ]
    }
   ],
   "source": [
    "#yfinance를 이용해서 데이터를 불러오자.\n",
    "\n",
    "import yfinance as yf\n",
    "\n",
    "#symbol, start date, end date를 지정한다.\n",
    "#만약 다른 데이터를 불러오고 싶다면, spy 대신 gld(금)나 tlt(미국 국채 20)등 다른 티커명을 입력하자.\n",
    "\n",
    "#start_date나 end_date를 조작해서 다양한 기간에 따른 결과를 얻어보자.\n",
    "symbol = 'SPY'\n",
    "start_date = '2012-01-01'\n",
    "end_date = '2017-01-01'\n",
    "\n",
    "\n",
    "df = yf.download(symbol,start=start_date,end=end_date)\n",
    "\n",
    "\n",
    "#데이터 불러오기\n",
    "\n",
    "print(df)"
   ]
  },
  {
   "cell_type": "code",
   "execution_count": 42,
   "id": "54ced808",
   "metadata": {},
   "outputs": [
    {
     "data": {
      "text/html": [
       "<div>\n",
       "<style scoped>\n",
       "    .dataframe tbody tr th:only-of-type {\n",
       "        vertical-align: middle;\n",
       "    }\n",
       "\n",
       "    .dataframe tbody tr th {\n",
       "        vertical-align: top;\n",
       "    }\n",
       "\n",
       "    .dataframe thead th {\n",
       "        text-align: right;\n",
       "    }\n",
       "</style>\n",
       "<table border=\"1\" class=\"dataframe\">\n",
       "  <thead>\n",
       "    <tr style=\"text-align: right;\">\n",
       "      <th></th>\n",
       "      <th>Open</th>\n",
       "      <th>High</th>\n",
       "      <th>Low</th>\n",
       "      <th>Close</th>\n",
       "      <th>Adj Close</th>\n",
       "      <th>Volume</th>\n",
       "    </tr>\n",
       "    <tr>\n",
       "      <th>Date</th>\n",
       "      <th></th>\n",
       "      <th></th>\n",
       "      <th></th>\n",
       "      <th></th>\n",
       "      <th></th>\n",
       "      <th></th>\n",
       "    </tr>\n",
       "  </thead>\n",
       "  <tbody>\n",
       "    <tr>\n",
       "      <th>2012-01-03</th>\n",
       "      <td>127.760002</td>\n",
       "      <td>128.380005</td>\n",
       "      <td>127.430000</td>\n",
       "      <td>127.500000</td>\n",
       "      <td>102.458984</td>\n",
       "      <td>193697900</td>\n",
       "    </tr>\n",
       "    <tr>\n",
       "      <th>2012-01-04</th>\n",
       "      <td>127.199997</td>\n",
       "      <td>127.809998</td>\n",
       "      <td>126.709999</td>\n",
       "      <td>127.699997</td>\n",
       "      <td>102.619705</td>\n",
       "      <td>127186500</td>\n",
       "    </tr>\n",
       "    <tr>\n",
       "      <th>2012-01-05</th>\n",
       "      <td>127.010002</td>\n",
       "      <td>128.229996</td>\n",
       "      <td>126.430000</td>\n",
       "      <td>128.039993</td>\n",
       "      <td>102.892906</td>\n",
       "      <td>173895000</td>\n",
       "    </tr>\n",
       "    <tr>\n",
       "      <th>2012-01-06</th>\n",
       "      <td>128.199997</td>\n",
       "      <td>128.220001</td>\n",
       "      <td>127.290001</td>\n",
       "      <td>127.709999</td>\n",
       "      <td>102.627724</td>\n",
       "      <td>148050000</td>\n",
       "    </tr>\n",
       "    <tr>\n",
       "      <th>2012-01-09</th>\n",
       "      <td>128.000000</td>\n",
       "      <td>128.179993</td>\n",
       "      <td>127.410004</td>\n",
       "      <td>128.020004</td>\n",
       "      <td>102.876816</td>\n",
       "      <td>99530200</td>\n",
       "    </tr>\n",
       "  </tbody>\n",
       "</table>\n",
       "</div>"
      ],
      "text/plain": [
       "                  Open        High         Low       Close   Adj Close  \\\n",
       "Date                                                                     \n",
       "2012-01-03  127.760002  128.380005  127.430000  127.500000  102.458984   \n",
       "2012-01-04  127.199997  127.809998  126.709999  127.699997  102.619705   \n",
       "2012-01-05  127.010002  128.229996  126.430000  128.039993  102.892906   \n",
       "2012-01-06  128.199997  128.220001  127.290001  127.709999  102.627724   \n",
       "2012-01-09  128.000000  128.179993  127.410004  128.020004  102.876816   \n",
       "\n",
       "               Volume  \n",
       "Date                   \n",
       "2012-01-03  193697900  \n",
       "2012-01-04  127186500  \n",
       "2012-01-05  173895000  \n",
       "2012-01-06  148050000  \n",
       "2012-01-09   99530200  "
      ]
     },
     "execution_count": 42,
     "metadata": {},
     "output_type": "execute_result"
    }
   ],
   "source": [
    "#na 데이터를 지우고, 데이터를 확인한다.\n",
    "\n",
    "df = df.dropna()\n",
    "df.head()"
   ]
  },
  {
   "cell_type": "markdown",
   "id": "141bed97",
   "metadata": {},
   "source": [
    "# 2.피처 데이터 및 레이블 데이터 생성\n",
    "\n",
    "밑에서, 레이블 데이터를 생성할 때 2개의 데이터를 생성한다. \n",
    "\n",
    "하나는 '다음날의 종가가 다음날의 시가보다 높다면 오른다고 정의'할 것이고,\n",
    "\n",
    "다른 하나는 '어제의 종가가 어제의 시가보다 높다면 오른다고 정의'할 것이다."
   ]
  },
  {
   "cell_type": "code",
   "execution_count": 43,
   "id": "f228b1c5",
   "metadata": {},
   "outputs": [
    {
     "data": {
      "text/html": [
       "<div>\n",
       "<style scoped>\n",
       "    .dataframe tbody tr th:only-of-type {\n",
       "        vertical-align: middle;\n",
       "    }\n",
       "\n",
       "    .dataframe tbody tr th {\n",
       "        vertical-align: top;\n",
       "    }\n",
       "\n",
       "    .dataframe thead th {\n",
       "        text-align: right;\n",
       "    }\n",
       "</style>\n",
       "<table border=\"1\" class=\"dataframe\">\n",
       "  <thead>\n",
       "    <tr style=\"text-align: right;\">\n",
       "      <th></th>\n",
       "      <th>Open</th>\n",
       "      <th>High</th>\n",
       "      <th>Low</th>\n",
       "      <th>Close</th>\n",
       "    </tr>\n",
       "    <tr>\n",
       "      <th>Date</th>\n",
       "      <th></th>\n",
       "      <th></th>\n",
       "      <th></th>\n",
       "      <th></th>\n",
       "    </tr>\n",
       "  </thead>\n",
       "  <tbody>\n",
       "    <tr>\n",
       "      <th>2012-01-03</th>\n",
       "      <td>127.760002</td>\n",
       "      <td>128.380005</td>\n",
       "      <td>127.430000</td>\n",
       "      <td>127.500000</td>\n",
       "    </tr>\n",
       "    <tr>\n",
       "      <th>2012-01-04</th>\n",
       "      <td>127.199997</td>\n",
       "      <td>127.809998</td>\n",
       "      <td>126.709999</td>\n",
       "      <td>127.699997</td>\n",
       "    </tr>\n",
       "    <tr>\n",
       "      <th>2012-01-05</th>\n",
       "      <td>127.010002</td>\n",
       "      <td>128.229996</td>\n",
       "      <td>126.430000</td>\n",
       "      <td>128.039993</td>\n",
       "    </tr>\n",
       "    <tr>\n",
       "      <th>2012-01-06</th>\n",
       "      <td>128.199997</td>\n",
       "      <td>128.220001</td>\n",
       "      <td>127.290001</td>\n",
       "      <td>127.709999</td>\n",
       "    </tr>\n",
       "    <tr>\n",
       "      <th>2012-01-09</th>\n",
       "      <td>128.000000</td>\n",
       "      <td>128.179993</td>\n",
       "      <td>127.410004</td>\n",
       "      <td>128.020004</td>\n",
       "    </tr>\n",
       "  </tbody>\n",
       "</table>\n",
       "</div>"
      ],
      "text/plain": [
       "                  Open        High         Low       Close\n",
       "Date                                                      \n",
       "2012-01-03  127.760002  128.380005  127.430000  127.500000\n",
       "2012-01-04  127.199997  127.809998  126.709999  127.699997\n",
       "2012-01-05  127.010002  128.229996  126.430000  128.039993\n",
       "2012-01-06  128.199997  128.220001  127.290001  127.709999\n",
       "2012-01-09  128.000000  128.179993  127.410004  128.020004"
      ]
     },
     "execution_count": 43,
     "metadata": {},
     "output_type": "execute_result"
    }
   ],
   "source": [
    "#필요한 데이터만 골라 다른 배열에 저장한다.\n",
    "#이름을 df1으로 저장한다.\n",
    "df1 = df[['Open','High','Low','Close']].copy()\n",
    "df1.head()"
   ]
  },
  {
   "cell_type": "code",
   "execution_count": 45,
   "id": "df41a754",
   "metadata": {},
   "outputs": [],
   "source": [
    "#시가와 종가의 차이/ 최고가와 최저가의 차이를 구한다.\n",
    "\n",
    "df1['gap-OpenClose'] = df1['Open'] - df1['Close']\n",
    "df1['gap-HighLow'] = df1['High'] - df1['Low']\n",
    "df1 = df1.dropna() #중간중간에 결측치를 제거한다.\n",
    "\n",
    "#X,Y를 정의한다. X에는 시가와 종가의 차이, 고가와 저가의 차이를 저장하고,\n",
    "#Y는 주가의 오름과 내림을 정의한다. 다음날의 종가가 다음날의 시가보다 크다면1, 아니면 -1이다.\n",
    "#시가, 종가를 평가할 때, shift를 통해 행을 올린다.\n",
    "X = df1[['gap-OpenClose','gap-HighLow']]\n",
    "Y = np.where(df1['Close'].shift(-1) > df1['Open'].shift(-1), 1, -1)\n",
    "\n",
    "\n",
    "#다음날의 종가가 다음날의 시가보다 높다면 오른다고 치자."
   ]
  },
  {
   "cell_type": "code",
   "execution_count": 46,
   "id": "6725a74f",
   "metadata": {},
   "outputs": [
    {
     "data": {
      "text/html": [
       "<div>\n",
       "<style scoped>\n",
       "    .dataframe tbody tr th:only-of-type {\n",
       "        vertical-align: middle;\n",
       "    }\n",
       "\n",
       "    .dataframe tbody tr th {\n",
       "        vertical-align: top;\n",
       "    }\n",
       "\n",
       "    .dataframe thead th {\n",
       "        text-align: right;\n",
       "    }\n",
       "</style>\n",
       "<table border=\"1\" class=\"dataframe\">\n",
       "  <thead>\n",
       "    <tr style=\"text-align: right;\">\n",
       "      <th></th>\n",
       "      <th>gap-OpenClose</th>\n",
       "      <th>gap-HighLow</th>\n",
       "    </tr>\n",
       "    <tr>\n",
       "      <th>Date</th>\n",
       "      <th></th>\n",
       "      <th></th>\n",
       "    </tr>\n",
       "  </thead>\n",
       "  <tbody>\n",
       "    <tr>\n",
       "      <th>2012-01-03</th>\n",
       "      <td>0.260002</td>\n",
       "      <td>0.950005</td>\n",
       "    </tr>\n",
       "    <tr>\n",
       "      <th>2012-01-04</th>\n",
       "      <td>-0.500000</td>\n",
       "      <td>1.099998</td>\n",
       "    </tr>\n",
       "    <tr>\n",
       "      <th>2012-01-05</th>\n",
       "      <td>-1.029991</td>\n",
       "      <td>1.799995</td>\n",
       "    </tr>\n",
       "    <tr>\n",
       "      <th>2012-01-06</th>\n",
       "      <td>0.489998</td>\n",
       "      <td>0.930000</td>\n",
       "    </tr>\n",
       "    <tr>\n",
       "      <th>2012-01-09</th>\n",
       "      <td>-0.020004</td>\n",
       "      <td>0.769989</td>\n",
       "    </tr>\n",
       "  </tbody>\n",
       "</table>\n",
       "</div>"
      ],
      "text/plain": [
       "            gap-OpenClose  gap-HighLow\n",
       "Date                                  \n",
       "2012-01-03       0.260002     0.950005\n",
       "2012-01-04      -0.500000     1.099998\n",
       "2012-01-05      -1.029991     1.799995\n",
       "2012-01-06       0.489998     0.930000\n",
       "2012-01-09      -0.020004     0.769989"
      ]
     },
     "execution_count": 46,
     "metadata": {},
     "output_type": "execute_result"
    }
   ],
   "source": [
    "X.head()"
   ]
  },
  {
   "cell_type": "markdown",
   "id": "c756e777",
   "metadata": {},
   "source": [
    "# 3. 데이터 분리, 모델 학습"
   ]
  },
  {
   "cell_type": "markdown",
   "id": "7a4aef61",
   "metadata": {},
   "source": [
    "## 학습데이터, 테스트 데이터 분리"
   ]
  },
  {
   "cell_type": "code",
   "execution_count": 49,
   "id": "c30a7e85",
   "metadata": {},
   "outputs": [],
   "source": [
    "split_ratio = 0.8\n",
    "split = int(split_ratio*len(df1))\n",
    "\n",
    "X_train = X[:split]\n",
    "Y_train = Y[:split]\n",
    "\n",
    "X_test = X[split:]\n",
    "Y_test = Y[split:]"
   ]
  },
  {
   "cell_type": "code",
   "execution_count": 63,
   "id": "1048d3b5",
   "metadata": {},
   "outputs": [],
   "source": [
    "#knn 학습\n",
    "\n",
    "#for 반복문을 통해 1~15까지의 k값을 가진 모델을 만들어본다.\n",
    "#학습을 하는데 KNeighborsClassifier을 가져온다.\n",
    "#중요 개념: n_neighbors는 학습을 시킬 때 인접한 샘플의 수이다.즉, 이 숫자가 높을 수록 인접한 샘플의 수가 늘어난다. \n",
    "#train데이터와 test데이터의 배열을 정의한다.\n",
    "train_acc=[]\n",
    "test_acc=[]\n",
    "\n",
    "for i in range(1,15):\n",
    "    clf = KNeighborsClassifier(n_jobs=-1, n_neighbors=i) #이 함수를 통해 모델을 훈련시킨다.\n",
    "    clf.fit(X_train, Y_train)\n",
    "    prediction = clf.predict(X_test)\n",
    "    train_acc.append(clf.score(X_train, Y_train)) #각각의 정확도들을 train_acc에 추가한다.\n",
    "    test_acc.append((prediction==Y_test).mean())\n"
   ]
  },
  {
   "cell_type": "markdown",
   "id": "e546a34f",
   "metadata": {},
   "source": [
    "# 4.결과를 그래프로 만들어주기"
   ]
  },
  {
   "cell_type": "code",
   "execution_count": 53,
   "id": "736eefdd",
   "metadata": {},
   "outputs": [
    {
     "data": {
      "text/plain": [
       "<matplotlib.legend.Legend at 0x1dd8c6e2430>"
      ]
     },
     "execution_count": 53,
     "metadata": {},
     "output_type": "execute_result"
    },
    {
     "data": {
      "image/png": "[encoded data removed]",
      "text/plain": [
       "<Figure size 864x648 with 1 Axes>"
      ]
     },
     "metadata": {
      "needs_background": "light"
     },
     "output_type": "display_data"
    }
   ],
   "source": [
    "plt.figure(figsize=(12,9))\n",
    "plt.plot(range(1,15),train_acc,label='TRAIN set') #train set에 대한 선을 긋는다.\n",
    "plt.plot(range(1,15),test_acc,label='TEST set') #test set에 대한 선을 긋는다.\n",
    "plt.xlabel(\"n_neighbors\") #x축에 제목을 붙인다.\n",
    "plt.ylabel(\"accuracy\") #y축에 제목을 붙인다.\n",
    "plt.xticks(np.arange(0,16,step=1))\n",
    "plt.legend()"
   ]
  },
  {
   "cell_type": "markdown",
   "id": "183e82f4",
   "metadata": {},
   "source": [
    "# 5. 결과 산출"
   ]
  },
  {
   "cell_type": "code",
   "execution_count": 52,
   "id": "ecddc187",
   "metadata": {},
   "outputs": [],
   "source": [
    "#머신러닝에서 얻고자 하는 것은 test set의 성능이 좋은 것이기 때문에, 9를 선택한다"
   ]
  },
  {
   "cell_type": "code",
   "execution_count": 57,
   "id": "13f92d1b",
   "metadata": {},
   "outputs": [
    {
     "name": "stdout",
     "output_type": "stream",
     "text": [
      "훈련 정확도 : 63.72%\n",
      "테스트 정확도 : 56.75%\n"
     ]
    }
   ],
   "source": [
    "knn = KNeighborsClassifier(n_neighbors=9)\n",
    "\n",
    "knn.fit(X_train,Y_train) #9로 설정하고 학습을 시킨다.\n",
    "\n",
    "\n",
    "#수치에 약간의 변형을 가해서 가독성을 높인다.(100을 곱하고 %을 추가.)\n",
    "accuracy_train = accuracy_score(Y_train, knn.predict(X_train))*100 \n",
    "accuracy_test = accuracy_score(Y_test, knn.predict(X_test))*100 \n",
    "\n",
    "print('훈련 정확도 : %.2f' % accuracy_train + '%') \n",
    "print('테스트 정확도 : %.2f' % accuracy_test + '%')"
   ]
  },
  {
   "cell_type": "markdown",
   "id": "d91ca98b",
   "metadata": {},
   "source": [
    "   # 결과: test set의 성능이 가장 좋은 9번으로 예측을 한 결과, 테스트 정확도는 56.7프로가 나왔다. 그렇다면, for loop문을 이용해서 1번~15번에서의 test set의 정확도를 산출해보자. 그리고, 그래프를 그려보자."
   ]
  },
  {
   "cell_type": "markdown",
   "id": "891ac6d5",
   "metadata": {},
   "source": [
    "# 6.다른 경우에서의 결과 산출"
   ]
  },
  {
   "cell_type": "code",
   "execution_count": 58,
   "id": "e18737ad",
   "metadata": {},
   "outputs": [],
   "source": [
    "#위의 설명에서와 같이, 9를 대입하지 않고,1부터 15까지 다 대입을 하면서 정확도의 차이를 알아보고, 이를 토대로 그래프를 그려보자."
   ]
  },
  {
   "cell_type": "code",
   "execution_count": 60,
   "id": "70c35649",
   "metadata": {},
   "outputs": [
    {
     "name": "stdout",
     "output_type": "stream",
     "text": [
      "훈련 정확도 : 99.70\n",
      "테스트 정확도 : 51.59\n",
      "훈련 정확도 : 75.25\n",
      "테스트 정확도 : 51.19\n",
      "훈련 정확도 : 75.05\n",
      "테스트 정확도 : 51.98\n",
      "훈련 정확도 : 67.69\n",
      "테스트 정확도 : 50.79\n",
      "훈련 정확도 : 67.69\n",
      "테스트 정확도 : 51.98\n",
      "훈련 정확도 : 65.11\n",
      "테스트 정확도 : 52.38\n",
      "훈련 정확도 : 65.31\n",
      "테스트 정확도 : 55.16\n",
      "훈련 정확도 : 64.91\n",
      "테스트 정확도 : 53.97\n",
      "훈련 정확도 : 63.72\n",
      "테스트 정확도 : 56.75\n",
      "훈련 정확도 : 62.72\n",
      "테스트 정확도 : 53.57\n",
      "훈련 정확도 : 62.03\n",
      "테스트 정확도 : 53.97\n",
      "훈련 정확도 : 62.33\n",
      "테스트 정확도 : 53.17\n",
      "훈련 정확도 : 61.63\n",
      "테스트 정확도 : 53.97\n",
      "훈련 정확도 : 60.93\n",
      "테스트 정확도 : 52.78\n"
     ]
    }
   ],
   "source": [
    "#정확도를 저장하는 리스트를 만들자.\n",
    "\n",
    "accuracy_test_list =[]\n",
    "\n",
    "for n in range(1,15):\n",
    "        knn = KNeighborsClassifier(n_neighbors=n)\n",
    "        knn.fit(X_train,Y_train) #9로 설정하고 학습을 시킨다.\n",
    "        #수치에 약간의 변형을 가해서 가독성을 높인다.(100을 곱하고 %을 추가.)\n",
    "        accuracy_train = accuracy_score(Y_train, knn.predict(X_train))*100 \n",
    "        accuracy_test = accuracy_score(Y_test, knn.predict(X_test))*100 \n",
    "\n",
    "        print('훈련 정확도 : %.2f' % accuracy_train) \n",
    "        print('테스트 정확도 : %.2f' % accuracy_test)\n",
    "        accuracy_test_list.append(accuracy_test)\n",
    "        "
   ]
  },
  {
   "cell_type": "code",
   "execution_count": 64,
   "id": "460d5016",
   "metadata": {},
   "outputs": [
    {
     "data": {
      "text/plain": [
       "<matplotlib.legend.Legend at 0x1dd8ca641f0>"
      ]
     },
     "execution_count": 64,
     "metadata": {},
     "output_type": "execute_result"
    },
    {
     "data": {
      "image/png": "[encoded data removed]",
      "text/plain": [
       "<Figure size 864x648 with 1 Axes>"
      ]
     },
     "metadata": {
      "needs_background": "light"
     },
     "output_type": "display_data"
    }
   ],
   "source": [
    "plt.figure(figsize=(12,9))\n",
    "plt.plot(range(1,15),accuracy_test_list,label='test set 정확도') \n",
    "plt.xlabel('인접 데이터 개수') #x축에 제목을 붙인다.\n",
    "plt.ylabel(\"test set 정확도\") #y축에 제목을 붙인다.\n",
    "plt.xticks(np.arange(0,16,step=1))\n",
    "plt.legend()"
   ]
  },
  {
   "cell_type": "markdown",
   "id": "b09bc1f4",
   "metadata": {},
   "source": [
    "# 7. 인사이트 산출\n",
    "\n",
    "\n",
    "- 1.knn을 통해 주가 데이터를 분석할 경우, 인접 데이터 개수를 적당히 많이 추가하는 것이 좋다. 인접 데이터가 너무 많아도 정확하지 않고, 너무 적어도 정확하지 않다.\n",
    "\n",
    "- 2.인접 데이터 개수를 최적화했다고 하더라도, 절대적인 정확도를 높일 수는 없다. 그러므로, knn은 '메인 도구'가 아닌 '도구 중의 하나'로 이용해야 할 것이다.\n",
    "\n",
    "- 3.정확도를 높이기 위해서는 test_set 데이터의 비율을 높이거나, 인접 데이터 개수의 범위를 조절하거나 해야 할 것이다. 이는 2번 파일에서 논할 것이다. (정확도를 높인다면, knn을 퀀트 투자에 활용할 수 있을 것이다.)\n",
    "\n",
    "- 4.절대 모멘텀과의 상관관계: 절대 모멘텀은 1달, 1년 간격이여서 기간 단위가 다르지만, 논리는 비슷하기 때문에 괜찮다. 2번 파일에서 절대 모멘텀에서 했던 것과 같이 기간 단위를 1달, 1년 간격으로 만든 다음 정확도를 높이는 과정을 거치도록 하자."
   ]
  },
  {
   "cell_type": "code",
   "execution_count": null,
   "id": "cf78439d",
   "metadata": {},
   "outputs": [],
   "source": []
  }
 ],
 "metadata": {
  "kernelspec": {
   "display_name": "Python 3",
   "language": "python",
   "name": "python3"
  },
  "language_info": {
   "codemirror_mode": {
    "name": "ipython",
    "version": 3
   },
   "file_extension": ".py",
   "mimetype": "text/x-python",
   "name": "python",
   "nbconvert_exporter": "python",
   "pygments_lexer": "ipython3",
   "version": "3.8.8"
  }
 },
 "nbformat": 4,
 "nbformat_minor": 5
}
